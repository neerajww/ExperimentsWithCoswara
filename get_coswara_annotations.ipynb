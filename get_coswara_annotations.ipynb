{
 "cells": [
  {
   "cell_type": "code",
   "execution_count": 94,
   "metadata": {},
   "outputs": [],
   "source": [
    "import pandas as pd\n",
    "import numpy as np\n",
    "from pathlib import Path, PureWindowsPath"
   ]
  },
  {
   "cell_type": "code",
   "execution_count": 50,
   "metadata": {},
   "outputs": [],
   "source": [
    "csv_url = ['https://raw.githubusercontent.com/iiscleap/Coswara-Exp/master/Annotated_Data/Annotated_responses.csv', \n",
    "            'https://raw.githubusercontent.com/iiscleap/Coswara-Exp/master/Annotated_v2/Annotated_v2_ans.csv']\n",
    "\n",
    "sound_categories = ['breathing-shallow', 'breathing-deep', 'cough-shallow', 'cough-heavy', 'vowel-o', 'vowel-e', 'vowel-a','counting-normal','counting-fast']\n",
    "audio_qualities = ['clean_audio', 'noisy_audio','bad_audio']"
   ]
  },
  {
   "cell_type": "code",
   "execution_count": 116,
   "metadata": {},
   "outputs": [
    {
     "name": "stdout",
     "output_type": "stream",
     "text": [
      "% Bad in breathing-shallow 8.91 % of 1324\n",
      "% Bad in breathing-deep 7.55 % of 1324\n",
      "% Bad in cough-shallow 4.31 % of 1324\n",
      "% Bad in cough-heavy 4.23 % of 1324\n",
      "% Bad in vowel-o 7.23 % of 1328\n",
      "% Bad in vowel-e 6.71 % of 1326\n",
      "% Bad in vowel-a 6.11 % of 1326\n",
      "% Bad in counting-normal 5.51 % of 1326\n",
      "% Bad in counting-fast 6.18 % of 1326\n"
     ]
    }
   ],
   "source": [
    "# loop on sound categories\n",
    "for sound_category in sound_categories:\n",
    "    # init an empty dictionary\n",
    "    data = {}\n",
    "    # loop on the CSV files\n",
    "    for csv_file_name in csv_url:\n",
    "        # load csv file\n",
    "        df = pd.read_csv(csv_file_name)\n",
    "        # sample the sound category rows\n",
    "        if 'Annotated_v2' in csv_file_name:\n",
    "            df_temp = df[df['recording'] ==  sound_category + '_v2'].reset_index(drop=True)\n",
    "        else:\n",
    "            df_temp = df[df['recording'] ==  sound_category].reset_index(drop=True)\n",
    "\n",
    "        # loop on the rows and append to dictionary\n",
    "        for i in range(len(df_temp)):\n",
    "            recording_type = df_temp['recording'].iloc[i]\n",
    "            if '_v2' in recording_type:\n",
    "                recording_type = recording_type[:-3]\n",
    "            if recording_type != df_temp['stage'].iloc[i]:\n",
    "                data[df_temp['id'].iloc[i] + '_' + sound_category] = 0\n",
    "            elif df_temp['quality'].iloc[i] == 'clean_audio':\n",
    "                data[df_temp['id'].iloc[i] + '_' + sound_category] = 2\n",
    "            elif df_temp['quality'].iloc[i] == 'noisy_audio':\n",
    "                data[df_temp['id'].iloc[i] + '_' + sound_category] = 1\n",
    "            elif df_temp['quality'].iloc[i] == 'bad_audio':\n",
    "                data[df_temp['id'].iloc[i] + '_' + sound_category] = 0\n",
    "    \n",
    "    # convert dictionary to dataframe\n",
    "    data_dict = {}\n",
    "    data_dict['FILENAME'] = []\n",
    "    data_dict[' QUALITY'] = []\n",
    "    for key in data.keys():\n",
    "        data_dict['FILENAME'].append(key)\n",
    "        data_dict[' QUALITY'].append(data[key])\n",
    "                \n",
    "    data_dict = pd.DataFrame.from_dict(data_dict)\n",
    "    print('% Bad in ' + sound_category, np.round(len(data_dict[data_dict[' QUALITY']==0])/len(data_dict)*100, 2), '%', 'of', len(data_dict))\n",
    "    # save dataframe as label file\n",
    "    data_dict.to_csv(sound_category + '_' + 'past.csv', index=False)"
   ]
  },
  {
   "cell_type": "code",
   "execution_count": 117,
   "metadata": {},
   "outputs": [
    {
     "name": "stdout",
     "output_type": "stream",
     "text": [
      "% Bad in vowel-o 10.12 % of 1768\n"
     ]
    }
   ],
   "source": [
    "# combine with any existing LABEL file\n",
    "path_store_labels = Path('./LABELS/')\n",
    "# init csv file name to combine\n",
    "existing_csv = 'vowel-o_labels_neeraj.csv'\n",
    "\n",
    "# get sound category from file name\n",
    "sound_category = existing_csv.split('_')[0]\n",
    "# get annotator name from file name\n",
    "annotator_name = existing_csv.split('_')[2].split('.')[0]\n",
    "\n",
    "# init empty dictionary\n",
    "data = {}\n",
    "# append entries from past CSV\n",
    "df_1 = pd.read_csv(sound_category + '_past.csv')\n",
    "for i in range(len(df_1)):\n",
    "    data[df_1['FILENAME'].iloc[i]] = df_1[' QUALITY'].iloc[i]\n",
    "# append entries from current CSV\n",
    "df_1 = pd.read_csv(path_store_labels / existing_csv)\n",
    "for i in range(len(df_1)):\n",
    "    data[df_1['FILENAME'].iloc[i]] = df_1[' QUALITY'].iloc[i]\n",
    "\n",
    "# convert dictionary to dataframe\n",
    "data_dict = {}\n",
    "data_dict['FILENAME'] = []\n",
    "data_dict[' QUALITY'] = []\n",
    "for key in data.keys():\n",
    "    data_dict['FILENAME'].append(key)\n",
    "    data_dict[' QUALITY'].append(data[key])\n",
    "            \n",
    "data_dict = pd.DataFrame.from_dict(data_dict)\n",
    "print('% Bad in ' + sound_category, np.round(len(data_dict[data_dict[' QUALITY']==0])/len(data_dict)*100, 2), '%', 'of', len(data_dict))\n",
    "# save the updated label file\n",
    "data_dict.to_csv(sound_category + '_' + 'labels_updated' + annotator_name  + '.csv', index=False)\n"
   ]
  },
  {
   "cell_type": "code",
   "execution_count": 121,
   "metadata": {},
   "outputs": [
    {
     "data": {
      "text/plain": [
       "['vowel-o', 'labels', 'neeraj.csv']"
      ]
     },
     "execution_count": 121,
     "metadata": {},
     "output_type": "execute_result"
    }
   ],
   "source": [
    "existing_csv.split('_')"
   ]
  },
  {
   "cell_type": "code",
   "execution_count": null,
   "metadata": {},
   "outputs": [],
   "source": []
  }
 ],
 "metadata": {
  "interpreter": {
   "hash": "f662ad8af9353728a383d9807c8de7722f9aefc22ef392be36f80ff78fb9241b"
  },
  "kernelspec": {
   "display_name": "Python 3.9.7 64-bit (windows store)",
   "name": "python3"
  },
  "language_info": {
   "codemirror_mode": {
    "name": "ipython",
    "version": 3
   },
   "file_extension": ".py",
   "mimetype": "text/x-python",
   "name": "python",
   "nbconvert_exporter": "python",
   "pygments_lexer": "ipython3",
   "version": "3.9.7"
  },
  "orig_nbformat": 4
 },
 "nbformat": 4,
 "nbformat_minor": 2
}
